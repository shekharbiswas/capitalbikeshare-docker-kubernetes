{
 "metadata": {
  "language_info": {
   "codemirror_mode": {
    "name": "ipython",
    "version": 3
   },
   "file_extension": ".py",
   "mimetype": "text/x-python",
   "name": "python",
   "nbconvert_exporter": "python",
   "pygments_lexer": "ipython3",
   "version": "3.7.4-final"
  },
  "orig_nbformat": 2,
  "kernelspec": {
   "name": "python37464bitbaseconda9daf389af7b44252854232aba3499adc",
   "display_name": "Python 3.7.4 64-bit ('base': conda)"
  }
 },
 "nbformat": 4,
 "nbformat_minor": 2,
 "cells": [
  {
   "cell_type": "code",
   "execution_count": 1,
   "metadata": {},
   "outputs": [],
   "source": [
    "import pandas as pd\n",
    "import numpy as np\n",
    "import matplotlib.pyplot as plt\n",
    "import seaborn as sns\n",
    "import pickle"
   ]
  },
  {
   "cell_type": "code",
   "execution_count": 2,
   "metadata": {},
   "outputs": [],
   "source": [
    "df = pd.read_csv('hour.csv')\n",
    "df = df[['hr', 'holiday','weekday','cnt']]\n",
    "df.columns = ['hour', 'is_holiday', 'day_of_week','Bike_rides_count']\n",
    "\n",
    "df['day_of_week'].replace([0,1,2,3,4,5,6],['Mon','Tue','Wed','Thu','Fri','Sat','Sun'],inplace=True)\n",
    "\n",
    "df['is_holiday'].replace([0,1],['No','Yes'],inplace=True)\n",
    "\n",
    "#df.is_holiday = df.is_holiday.astype('category')"
   ]
  },
  {
   "cell_type": "code",
   "execution_count": 3,
   "metadata": {},
   "outputs": [],
   "source": [
    "X = df.drop(columns= ['Bike_rides_count'])\n",
    "y = df['Bike_rides_count']"
   ]
  },
  {
   "cell_type": "code",
   "execution_count": 4,
   "metadata": {},
   "outputs": [
    {
     "output_type": "execute_result",
     "data": {
      "text/plain": "       hour  is_holiday_No  is_holiday_Yes  day_of_week_Fri  day_of_week_Mon  \\\n0         0              1               0                0                0   \n1         1              1               0                0                0   \n2         2              1               0                0                0   \n3         3              1               0                0                0   \n4         4              1               0                0                0   \n...     ...            ...             ...              ...              ...   \n17374    19              1               0                0                0   \n17375    20              1               0                0                0   \n17376    21              1               0                0                0   \n17377    22              1               0                0                0   \n17378    23              1               0                0                0   \n\n       day_of_week_Sat  day_of_week_Sun  day_of_week_Thu  day_of_week_Tue  \\\n0                    0                1                0                0   \n1                    0                1                0                0   \n2                    0                1                0                0   \n3                    0                1                0                0   \n4                    0                1                0                0   \n...                ...              ...              ...              ...   \n17374                0                0                0                1   \n17375                0                0                0                1   \n17376                0                0                0                1   \n17377                0                0                0                1   \n17378                0                0                0                1   \n\n       day_of_week_Wed  \n0                    0  \n1                    0  \n2                    0  \n3                    0  \n4                    0  \n...                ...  \n17374                0  \n17375                0  \n17376                0  \n17377                0  \n17378                0  \n\n[17379 rows x 10 columns]",
      "text/html": "<div>\n<style scoped>\n    .dataframe tbody tr th:only-of-type {\n        vertical-align: middle;\n    }\n\n    .dataframe tbody tr th {\n        vertical-align: top;\n    }\n\n    .dataframe thead th {\n        text-align: right;\n    }\n</style>\n<table border=\"1\" class=\"dataframe\">\n  <thead>\n    <tr style=\"text-align: right;\">\n      <th></th>\n      <th>hour</th>\n      <th>is_holiday_No</th>\n      <th>is_holiday_Yes</th>\n      <th>day_of_week_Fri</th>\n      <th>day_of_week_Mon</th>\n      <th>day_of_week_Sat</th>\n      <th>day_of_week_Sun</th>\n      <th>day_of_week_Thu</th>\n      <th>day_of_week_Tue</th>\n      <th>day_of_week_Wed</th>\n    </tr>\n  </thead>\n  <tbody>\n    <tr>\n      <td>0</td>\n      <td>0</td>\n      <td>1</td>\n      <td>0</td>\n      <td>0</td>\n      <td>0</td>\n      <td>0</td>\n      <td>1</td>\n      <td>0</td>\n      <td>0</td>\n      <td>0</td>\n    </tr>\n    <tr>\n      <td>1</td>\n      <td>1</td>\n      <td>1</td>\n      <td>0</td>\n      <td>0</td>\n      <td>0</td>\n      <td>0</td>\n      <td>1</td>\n      <td>0</td>\n      <td>0</td>\n      <td>0</td>\n    </tr>\n    <tr>\n      <td>2</td>\n      <td>2</td>\n      <td>1</td>\n      <td>0</td>\n      <td>0</td>\n      <td>0</td>\n      <td>0</td>\n      <td>1</td>\n      <td>0</td>\n      <td>0</td>\n      <td>0</td>\n    </tr>\n    <tr>\n      <td>3</td>\n      <td>3</td>\n      <td>1</td>\n      <td>0</td>\n      <td>0</td>\n      <td>0</td>\n      <td>0</td>\n      <td>1</td>\n      <td>0</td>\n      <td>0</td>\n      <td>0</td>\n    </tr>\n    <tr>\n      <td>4</td>\n      <td>4</td>\n      <td>1</td>\n      <td>0</td>\n      <td>0</td>\n      <td>0</td>\n      <td>0</td>\n      <td>1</td>\n      <td>0</td>\n      <td>0</td>\n      <td>0</td>\n    </tr>\n    <tr>\n      <td>...</td>\n      <td>...</td>\n      <td>...</td>\n      <td>...</td>\n      <td>...</td>\n      <td>...</td>\n      <td>...</td>\n      <td>...</td>\n      <td>...</td>\n      <td>...</td>\n      <td>...</td>\n    </tr>\n    <tr>\n      <td>17374</td>\n      <td>19</td>\n      <td>1</td>\n      <td>0</td>\n      <td>0</td>\n      <td>0</td>\n      <td>0</td>\n      <td>0</td>\n      <td>0</td>\n      <td>1</td>\n      <td>0</td>\n    </tr>\n    <tr>\n      <td>17375</td>\n      <td>20</td>\n      <td>1</td>\n      <td>0</td>\n      <td>0</td>\n      <td>0</td>\n      <td>0</td>\n      <td>0</td>\n      <td>0</td>\n      <td>1</td>\n      <td>0</td>\n    </tr>\n    <tr>\n      <td>17376</td>\n      <td>21</td>\n      <td>1</td>\n      <td>0</td>\n      <td>0</td>\n      <td>0</td>\n      <td>0</td>\n      <td>0</td>\n      <td>0</td>\n      <td>1</td>\n      <td>0</td>\n    </tr>\n    <tr>\n      <td>17377</td>\n      <td>22</td>\n      <td>1</td>\n      <td>0</td>\n      <td>0</td>\n      <td>0</td>\n      <td>0</td>\n      <td>0</td>\n      <td>0</td>\n      <td>1</td>\n      <td>0</td>\n    </tr>\n    <tr>\n      <td>17378</td>\n      <td>23</td>\n      <td>1</td>\n      <td>0</td>\n      <td>0</td>\n      <td>0</td>\n      <td>0</td>\n      <td>0</td>\n      <td>0</td>\n      <td>1</td>\n      <td>0</td>\n    </tr>\n  </tbody>\n</table>\n<p>17379 rows × 10 columns</p>\n</div>"
     },
     "metadata": {},
     "execution_count": 4
    }
   ],
   "source": [
    "X = pd.get_dummies(X)\n",
    "X\n"
   ]
  },
  {
   "cell_type": "code",
   "execution_count": 5,
   "metadata": {},
   "outputs": [],
   "source": [
    "# loaded the linear regression module\n",
    "from sklearn.linear_model import LinearRegression\n",
    "regressor = LinearRegression()\n",
    "\n",
    "\n",
    "regressor.fit(X,y)\n",
    "\n",
    "# Saving model to disk\n",
    "pickle.dump(regressor, open('model.pkl','wb'))\n",
    "\n"
   ]
  },
  {
   "cell_type": "code",
   "execution_count": 15,
   "metadata": {
    "tags": []
   },
   "outputs": [
    {
     "output_type": "stream",
     "name": "stdout",
     "text": "[12, 0, 1, 0, 0, 0, 1, 0, 0, 0]\n161\n"
    }
   ],
   "source": [
    "# Loading model to compare the results\n",
    "\n",
    "model = pickle.load(open('model.pkl','rb'))\n",
    "\n",
    "## calling the model to predict \n",
    "data =[]\n",
    "\n",
    "item = [12, 'Yes','Sun']\n",
    "\n",
    "# As the The training data was dummified one, so we have to pass the \n",
    "# test data in the same format ('hour','is_holiday','day_of_week')\n",
    "\n",
    "data.append(item[0])\n",
    "\n",
    "# is holiday\n",
    "if item[1] == 'Yes':\n",
    "    data.append(0)\n",
    "    data.append(1)\n",
    "else:\n",
    "    data.append(1)\n",
    "    data.append(0)\n",
    "    \n",
    "# fri, mon, sat , sun, thu, tue, wed\n",
    "if item[2] == 'Fri':\n",
    "    data.append(1)\n",
    "    data.append(0)\n",
    "    data.append(0)\n",
    "    data.append(0)\n",
    "    data.append(0)\n",
    "    data.append(0)\n",
    "    data.append(0)\n",
    "\n",
    "elif item[2] == 'Mon':\n",
    "    data.append(0)\n",
    "    data.append(1)\n",
    "    data.append(0)\n",
    "    data.append(0)\n",
    "    data.append(0)\n",
    "    data.append(0)\n",
    "    data.append(0)\n",
    "\n",
    "\n",
    "elif item[2] == 'Sat':\n",
    "    data.append(0)\n",
    "    data.append(0)\n",
    "    data.append(1)\n",
    "    data.append(0)\n",
    "    data.append(0)\n",
    "    data.append(0)\n",
    "    data.append(0)\n",
    "\n",
    "elif item[2] == 'Sun':\n",
    "    data.append(0)\n",
    "    data.append(0)\n",
    "    data.append(0)\n",
    "    data.append(1)\n",
    "    data.append(0)\n",
    "    data.append(0)\n",
    "    data.append(0)\n",
    "\n",
    "\n",
    "elif item[2] == 'Thu':\n",
    "    data.append(0)\n",
    "    data.append(0)\n",
    "    data.append(0)\n",
    "    data.append(0)\n",
    "    data.append(1)\n",
    "    data.append(0)\n",
    "    data.append(0)\n",
    "\n",
    "elif item[2] == 'Tue':\n",
    "    data.append(0)\n",
    "    data.append(0)\n",
    "    data.append(0)\n",
    "    data.append(0)\n",
    "    data.append(0)\n",
    "    data.append(1)\n",
    "    data.append(0)\n",
    "else:\n",
    "    data.append(0)\n",
    "    data.append(0)\n",
    "    data.append(0)\n",
    "    data.append(0)\n",
    "    data.append(0)\n",
    "    data.append(0)\n",
    "    data.append(1)\n",
    "\n",
    "print(data)\n",
    "\n",
    "# this is single sample\n",
    "\n",
    "print(int(model.predict([data])[0]))\n"
   ]
  },
  {
   "cell_type": "code",
   "execution_count": 64,
   "metadata": {
    "tags": []
   },
   "outputs": [
    {
     "output_type": "stream",
     "name": "stdout",
     "text": "[161.83500836]\n"
    }
   ],
   "source": []
  },
  {
   "cell_type": "code",
   "execution_count": null,
   "metadata": {},
   "outputs": [],
   "source": []
  }
 ]
}